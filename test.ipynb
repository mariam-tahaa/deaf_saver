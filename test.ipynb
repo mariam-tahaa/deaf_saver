{
 "cells": [
  {
   "cell_type": "code",
   "execution_count": 13,
   "id": "3972c994",
   "metadata": {},
   "outputs": [
    {
     "name": "stdout",
     "output_type": "stream",
     "text": [
      "<class 'str'>\n"
     ]
    }
   ],
   "source": [
    "import pickle\n",
    "\n",
    "# Open the file in read mode\n",
    "with open('model.pkl', 'rb') as file:\n",
    "    # Load the object\n",
    "    loaded_object = pickle.load(file)\n",
    "\n",
    "# Print the type of the loaded object\n",
    "print(type(loaded_object))\n"
   ]
  },
  {
   "cell_type": "code",
   "execution_count": 14,
   "id": "b34696b7",
   "metadata": {},
   "outputs": [
    {
     "data": {
      "text/plain": [
       "'audio_classification_model_final.h5'"
      ]
     },
     "execution_count": 14,
     "metadata": {},
     "output_type": "execute_result"
    }
   ],
   "source": [
    "loaded_object"
   ]
  },
  {
   "cell_type": "code",
   "execution_count": 4,
   "id": "ac8321e9",
   "metadata": {},
   "outputs": [
    {
     "name": "stdout",
     "output_type": "stream",
     "text": [
      "Note: you may need to restart the kernel to use updated packages.\n"
     ]
    },
    {
     "name": "stderr",
     "output_type": "stream",
     "text": [
      "ERROR: Could not find a version that satisfies the requirement feature (from versions: none)\n",
      "ERROR: No matching distribution found for feature\n"
     ]
    }
   ],
   "source": [
    "pip install feature"
   ]
  },
  {
   "cell_type": "code",
   "execution_count": 5,
   "metadata": {},
   "outputs": [
    {
     "name": "stdout",
     "output_type": "stream",
     "text": [
      "['ShortURL', 'Redirecting//']\n"
     ]
    }
   ],
   "source": [
    "from urllib.parse import urlparse\n",
    "\n",
    "def url_to_features(url):\n",
    "    features = []\n",
    "    \n",
    "    # Extracting components of the URL\n",
    "    parsed_url = urlparse(url)\n",
    "    \n",
    "    # Check if URL is IP based\n",
    "    if parsed_url.hostname.replace('.', '').isdigit():\n",
    "        features.append('UsingIP')\n",
    "    \n",
    "    # Check if URL length is long\n",
    "    if len(url) > 75:\n",
    "        features.append('LongURL')\n",
    "    \n",
    "    # Check if URL length is short\n",
    "    if len(url) < 54:\n",
    "        features.append('ShortURL')\n",
    "    \n",
    "    # Check for special characters like @ in URL\n",
    "    if '@' in url:\n",
    "        features.append('Symbol@')\n",
    "    \n",
    "    # Check if URL contains '//' which might indicate redirection\n",
    "    if '//' in url:\n",
    "        features.append('Redirecting//')\n",
    "    \n",
    "    # Check if URL contains '-' which might be used in phishing attacks\n",
    "    if '-' in url:\n",
    "        features.append('PrefixSuffix-')\n",
    "    \n",
    "    # Add more feature extraction logic here...\n",
    "\n",
    "    return features\n",
    "\n",
    "# Example usage:\n",
    "url = \"http://example.com\"\n",
    "features = url_to_features(url)\n",
    "print(features)\n"
   ]
  },
  {
   "cell_type": "code",
   "execution_count": 6,
   "metadata": {},
   "outputs": [
    {
     "ename": "ModuleNotFoundError",
     "evalue": "No module named 'feature_extraction_module'",
     "output_type": "error",
     "traceback": [
      "\u001b[1;31m---------------------------------------------------------------------------\u001b[0m",
      "\u001b[1;31mModuleNotFoundError\u001b[0m                       Traceback (most recent call last)",
      "Cell \u001b[1;32mIn[6], line 4\u001b[0m\n\u001b[0;32m      1\u001b[0m \u001b[38;5;28;01mimport\u001b[39;00m \u001b[38;5;21;01mnumpy\u001b[39;00m \u001b[38;5;28;01mas\u001b[39;00m \u001b[38;5;21;01mnp\u001b[39;00m\n\u001b[0;32m      3\u001b[0m \u001b[38;5;66;03m# Assuming you have the FeatureExtraction class defined\u001b[39;00m\n\u001b[1;32m----> 4\u001b[0m \u001b[38;5;28;01mfrom\u001b[39;00m \u001b[38;5;21;01mfeature_extraction_module\u001b[39;00m \u001b[38;5;28;01mimport\u001b[39;00m FeatureExtraction  \u001b[38;5;66;03m# Import the FeatureExtraction class\u001b[39;00m\n\u001b[0;32m      6\u001b[0m \u001b[38;5;66;03m# Define the URL you want to extract features from\u001b[39;00m\n\u001b[0;32m      7\u001b[0m url \u001b[38;5;241m=\u001b[39m \u001b[38;5;124m\"\u001b[39m\u001b[38;5;124mhttp://example.com\u001b[39m\u001b[38;5;124m\"\u001b[39m\n",
      "\u001b[1;31mModuleNotFoundError\u001b[0m: No module named 'feature_extraction_module'"
     ]
    }
   ],
   "source": [
    "import numpy as np\n",
    "\n",
    "# Assuming you have the FeatureExtraction class defined\n",
    "from feature_extraction_module import FeatureExtraction  # Import the FeatureExtraction class\n",
    "\n",
    "# Define the URL you want to extract features from\n",
    "url = \"http://example.com\"\n",
    "\n",
    "# Create an instance of FeatureExtraction class with the URL\n",
    "obj = FeatureExtraction(url)\n",
    "\n",
    "# Extract features and convert them into a NumPy array\n",
    "x = np.array(obj.getFeaturesList()).reshape(1, 30)\n",
    "\n",
    "# Now you can use the 'x' array as input for further processing or analysis\n",
    "print(x)"
   ]
  },
  {
   "cell_type": "code",
   "execution_count": 7,
   "metadata": {},
   "outputs": [
    {
     "ename": "AttributeError",
     "evalue": "'_UserObject' object has no attribute 'predict'",
     "output_type": "error",
     "traceback": [
      "\u001b[1;31m---------------------------------------------------------------------------\u001b[0m",
      "\u001b[1;31mAttributeError\u001b[0m                            Traceback (most recent call last)",
      "Cell \u001b[1;32mIn[7], line 36\u001b[0m\n\u001b[0;32m     32\u001b[0m     prediction_class \u001b[38;5;241m=\u001b[39m [get_class_name(label) \u001b[38;5;28;01mfor\u001b[39;00m label \u001b[38;5;129;01min\u001b[39;00m predicted_label]\n\u001b[0;32m     34\u001b[0m     \u001b[38;5;28;01mreturn\u001b[39;00m prediction_class\n\u001b[1;32m---> 36\u001b[0m extract_features_and_predict(filename\u001b[38;5;241m=\u001b[39m\u001b[38;5;124m'\u001b[39m\u001b[38;5;124maudio.mp3\u001b[39m\u001b[38;5;124m'\u001b[39m,loaded_model\u001b[38;5;241m=\u001b[39mloaded_model)\n",
      "Cell \u001b[1;32mIn[7], line 30\u001b[0m, in \u001b[0;36mextract_features_and_predict\u001b[1;34m(filename, loaded_model)\u001b[0m\n\u001b[0;32m     27\u001b[0m mfccs_scaled_features \u001b[38;5;241m=\u001b[39m mfccs_scaled_features\u001b[38;5;241m.\u001b[39mreshape(\u001b[38;5;241m1\u001b[39m, \u001b[38;5;241m-\u001b[39m\u001b[38;5;241m1\u001b[39m)\n\u001b[0;32m     29\u001b[0m \u001b[38;5;66;03m# Make predictions\u001b[39;00m\n\u001b[1;32m---> 30\u001b[0m predicted_probabilities \u001b[38;5;241m=\u001b[39m loaded_model\u001b[38;5;241m.\u001b[39mpredict(mfccs_scaled_features)\n\u001b[0;32m     31\u001b[0m predicted_label \u001b[38;5;241m=\u001b[39m np\u001b[38;5;241m.\u001b[39margmax(predicted_probabilities, axis\u001b[38;5;241m=\u001b[39m\u001b[38;5;241m1\u001b[39m)\n\u001b[0;32m     32\u001b[0m prediction_class \u001b[38;5;241m=\u001b[39m [get_class_name(label) \u001b[38;5;28;01mfor\u001b[39;00m label \u001b[38;5;129;01min\u001b[39;00m predicted_label]\n",
      "\u001b[1;31mAttributeError\u001b[0m: '_UserObject' object has no attribute 'predict'"
     ]
    }
   ],
   "source": [
    "import librosa\n",
    "import tensorflow as tf\n",
    "import numpy as np\n",
    "label_to_class = {\n",
    "    0: 'Knocking_Sound', 1: 'azan', 2: 'car_horn', 3: 'cat', 4: 'church bell', \n",
    "    5: 'clock_alarm', 6: 'cough', 7: 'crying_baby', 8: 'dog_bark', 9: 'glass_breaking', \n",
    "    10: 'gun_shot', 11: 'rain', 12: 'siren', 13: 'train', 14: 'water_drops', 15: 'wind'\n",
    "}\n",
    "\n",
    "\n",
    "def get_class_name(label):\n",
    "    if label in label_to_class:\n",
    "        return label_to_class[label]\n",
    "    else:\n",
    "        return \"Label not found\"\n",
    "    \n",
    "# Load the saved model\n",
    "loaded_model = tf.saved_model.load('saved_model')\n",
    "\n",
    "def extract_features_and_predict(filename, loaded_model):\n",
    "    # Load audio file\n",
    "    audio, sample_rate = librosa.load(filename, res_type='kaiser_fast')\n",
    "\n",
    "    # Extract MFCC features\n",
    "    mfccs_features = librosa.feature.mfcc(y=audio, sr=sample_rate, n_mfcc=60)\n",
    "    mfccs_scaled_features = np.mean(mfccs_features.T, axis=0)\n",
    "    mfccs_scaled_features = mfccs_scaled_features.reshape(1, -1)\n",
    "\n",
    "    # Make predictions\n",
    "    predicted_probabilities = loaded_model.predict(mfccs_scaled_features)\n",
    "    predicted_label = np.argmax(predicted_probabilities, axis=1)\n",
    "    prediction_class = [get_class_name(label) for label in predicted_label]\n",
    "\n",
    "    return prediction_class\n",
    "\n",
    "extract_features_and_predict(filename='audio.mp3',loaded_model=loaded_model)"
   ]
  },
  {
   "cell_type": "code",
   "execution_count": 3,
   "metadata": {},
   "outputs": [
    {
     "name": "stdout",
     "output_type": "stream",
     "text": [
      "<class 'tensorflow.python.saved_model.load.Loader._recreate_base_user_object.<locals>._UserObject'>\n"
     ]
    }
   ],
   "source": [
    "print(type(loaded_model))"
   ]
  },
  {
   "cell_type": "code",
   "execution_count": null,
   "metadata": {},
   "outputs": [],
   "source": []
  }
 ],
 "metadata": {
  "kernelspec": {
   "display_name": "Python 3",
   "language": "python",
   "name": "python3"
  },
  "language_info": {
   "codemirror_mode": {
    "name": "ipython",
    "version": 3
   },
   "file_extension": ".py",
   "mimetype": "text/x-python",
   "name": "python",
   "nbconvert_exporter": "python",
   "pygments_lexer": "ipython3",
   "version": "3.11.5"
  }
 },
 "nbformat": 4,
 "nbformat_minor": 2
}
